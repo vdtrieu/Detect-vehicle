{
 "cells": [
  {
   "cell_type": "code",
   "execution_count": 16,
   "metadata": {},
   "outputs": [],
   "source": [
    "import cv2\n",
    "import numpy as np\n",
    "from os import listdir"
   ]
  },
  {
   "cell_type": "code",
   "execution_count": 29,
   "metadata": {},
   "outputs": [],
   "source": [
    "maxn = 0\n",
    "for name in listdir(\"./destImage/\"):\n",
    "    num = int(str.replace(name,\".png\", \"\"))\n",
    "    if (num > maxn):\n",
    "        maxn = num\n",
    "maxn += 1\n",
    "\n",
    "path = \"F:/Untitled2.png\"\n",
    "image = cv2.imread(path)\n",
    "m,n,k = np.shape(image)\n",
    "for i in range(int(n%128)):\n",
    "    for j in range(int(m%128)):\n",
    "        x_start = i*128\n",
    "        y_start = j*128\n",
    "        if (x_start+128<=n):\n",
    "            x_stop = x_start+128\n",
    "        else:\n",
    "            continue\n",
    "        if (y_start+128<=n):\n",
    "            y_stop = y_start+128\n",
    "        else:\n",
    "            continue\n",
    "        returnImage = image[x_start:x_stop,y_start:y_stop]\n",
    "        if (np.shape(returnImage) == (128,128,3)):\n",
    "            returnImage = cv2.resize(returnImage, (64,64))\n",
    "            cv2.imwrite(\"F:/destImage/\" + str(maxn) + \".png\", returnImage)\n",
    "            maxn +=1"
   ]
  },
  {
   "cell_type": "code",
   "execution_count": 11,
   "metadata": {},
   "outputs": [],
   "source": []
  },
  {
   "cell_type": "code",
   "execution_count": null,
   "metadata": {},
   "outputs": [],
   "source": []
  }
 ],
 "metadata": {
  "kernelspec": {
   "display_name": "Python 3",
   "language": "python",
   "name": "python3"
  },
  "language_info": {
   "codemirror_mode": {
    "name": "ipython",
    "version": 3
   },
   "file_extension": ".py",
   "mimetype": "text/x-python",
   "name": "python",
   "nbconvert_exporter": "python",
   "pygments_lexer": "ipython3",
   "version": "3.7.1"
  }
 },
 "nbformat": 4,
 "nbformat_minor": 2
}
